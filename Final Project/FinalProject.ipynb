{
 "cells": [
  {
   "cell_type": "markdown",
   "metadata": {
    "id": "tnCKKA1gfJU7"
   },
   "source": [
    "#Neural Style Transfer\n"
   ]
  },
  {
   "cell_type": "code",
   "execution_count": null,
   "metadata": {},
   "outputs": [],
   "source": [
    "!pip install torch"
   ]
  },
  {
   "cell_type": "code",
   "execution_count": 1,
   "metadata": {
    "id": "dhzstP7NfLxu"
   },
   "outputs": [
    {
     "ename": "ModuleNotFoundError",
     "evalue": "No module named 'torch'",
     "output_type": "error",
     "traceback": [
      "\u001b[1;31m---------------------------------------------------------------------------\u001b[0m",
      "\u001b[1;31mModuleNotFoundError\u001b[0m                       Traceback (most recent call last)",
      "\u001b[1;32m<ipython-input-1-2ccc78c2036b>\u001b[0m in \u001b[0;36m<module>\u001b[1;34m()\u001b[0m\n\u001b[1;32m----> 1\u001b[1;33m \u001b[1;32mimport\u001b[0m \u001b[0mtorch\u001b[0m\u001b[1;33m\u001b[0m\u001b[0m\n\u001b[0m\u001b[0;32m      2\u001b[0m \u001b[1;32mimport\u001b[0m \u001b[0mtorch\u001b[0m\u001b[1;33m.\u001b[0m\u001b[0mnn\u001b[0m \u001b[1;32mas\u001b[0m \u001b[0mnn\u001b[0m\u001b[1;33m\u001b[0m\u001b[0m\n\u001b[0;32m      3\u001b[0m \u001b[1;32mimport\u001b[0m \u001b[0mtorch\u001b[0m\u001b[1;33m.\u001b[0m\u001b[0mnn\u001b[0m\u001b[1;33m.\u001b[0m\u001b[0mfunctional\u001b[0m \u001b[1;32mas\u001b[0m \u001b[0mF\u001b[0m\u001b[1;33m\u001b[0m\u001b[0m\n\u001b[0;32m      4\u001b[0m \u001b[1;32mimport\u001b[0m \u001b[0mtorch\u001b[0m\u001b[1;33m.\u001b[0m\u001b[0moptim\u001b[0m \u001b[1;32mas\u001b[0m \u001b[0moptim\u001b[0m\u001b[1;33m\u001b[0m\u001b[0m\n\u001b[0;32m      5\u001b[0m \u001b[1;33m\u001b[0m\u001b[0m\n",
      "\u001b[1;31mModuleNotFoundError\u001b[0m: No module named 'torch'"
     ]
    }
   ],
   "source": [
    "import torch\n",
    "import torch.nn as nn\n",
    "import torch.nn.functional as F\n",
    "import torch.optim as optim\n",
    "\n",
    "from PIL import Image\n",
    "import matplotlib.pyplot as plt\n",
    "import cv2\n",
    "import torchvision.transforms as transforms\n",
    "import torchvision.models as models\n",
    "\n",
    "import copy"
   ]
  },
  {
   "cell_type": "code",
   "execution_count": null,
   "metadata": {
    "id": "ZCVkX86ifeHe"
   },
   "outputs": [],
   "source": [
    "device = torch.device(\"cuda\" if torch.cuda.is_available() else \"cpu\")"
   ]
  },
  {
   "cell_type": "code",
   "execution_count": null,
   "metadata": {
    "colab": {
     "base_uri": "https://localhost:8080/"
    },
    "executionInfo": {
     "elapsed": 16855,
     "status": "ok",
     "timestamp": 1686656369171,
     "user": {
      "displayName": "Lida Calsamiglia",
      "userId": "15289803811976407992"
     },
     "user_tz": -120
    },
    "id": "N1kd7eaNk1xQ",
    "outputId": "536f6792-454e-4086-c839-6acfca6e51bc"
   },
   "outputs": [],
   "source": [
    "from google.colab import drive\n",
    "drive.mount('/content/drive')"
   ]
  },
  {
   "cell_type": "code",
   "execution_count": null,
   "metadata": {
    "id": "aHwNZrSmfhJO"
   },
   "outputs": [],
   "source": [
    "# desired size of the output image\n",
    "imsize = 512 if torch.cuda.is_available() else 400  # use small size if no GPU\n",
    "\n",
    "loader = transforms.Compose([\n",
    "    transforms.Resize(imsize),  # scale imported image\n",
    "    transforms.ToTensor()])  # transform it into a torch tensor\n",
    "\n",
    "\n",
    "def image_loader(image_name):\n",
    "    image = Image.open(image_name)\n",
    "    # fake batch dimension required to fit network's input dimensions\n",
    "    image = loader(image).unsqueeze(0)\n",
    "    return image.to(device, torch.float)"
   ]
  },
  {
   "cell_type": "code",
   "execution_count": null,
   "metadata": {
    "id": "3LPM-v_FlGRF"
   },
   "outputs": [],
   "source": [
    "unloader = transforms.ToPILImage()  # reconvert into PIL image\n",
    "\n",
    "plt.ion()\n",
    "\n",
    "def imshow(tensor, title=None):\n",
    "    image = tensor.cpu().clone()  # we clone the tensor to not do changes on it\n",
    "    image = image.squeeze(0)      # remove the fake batch dimension\n",
    "    image = unloader(image)\n",
    "    plt.imshow(image)\n",
    "    if title is not None:\n",
    "        plt.title(title)\n",
    "    plt.pause(0.001) # pause a bit so that plots are updated"
   ]
  },
  {
   "cell_type": "markdown",
   "metadata": {
    "id": "lhaiQQ1cmAUG"
   },
   "source": [
    "##Loss Functions\n"
   ]
  },
  {
   "cell_type": "markdown",
   "metadata": {
    "id": "ywU9rkl2mEz4"
   },
   "source": [
    "###**Content Loss**"
   ]
  },
  {
   "cell_type": "code",
   "execution_count": null,
   "metadata": {
    "id": "hZr6ZhKFl_2f"
   },
   "outputs": [],
   "source": [
    "class ContentLoss(nn.Module):\n",
    "\n",
    "    def __init__(self, target,):\n",
    "        super(ContentLoss, self).__init__()\n",
    "        # we 'detach' the target content from the tree used\n",
    "        # to dynamically compute the gradient: this is a stated value,\n",
    "        # not a variable. Otherwise the forward method of the criterion\n",
    "        # will throw an error.\n",
    "        self.target = target.detach()\n",
    "\n",
    "    def forward(self, input):\n",
    "        self.loss = F.mse_loss(input, self.target)\n",
    "        return input"
   ]
  },
  {
   "cell_type": "markdown",
   "metadata": {
    "id": "ioYTa1kfmOW4"
   },
   "source": [
    "###**Style Loss**\n"
   ]
  },
  {
   "cell_type": "code",
   "execution_count": null,
   "metadata": {
    "id": "pTeEL70umNiA"
   },
   "outputs": [],
   "source": [
    "def gram_matrix(input):\n",
    "    a, b, c, d = input.size()  # a=batch size(=1)\n",
    "    # b=number of feature maps\n",
    "    # (c,d)=dimensions of a f. map (N=c*d)\n",
    "\n",
    "    features = input.view(a * b, c * d)  # resize F_XL into \\hat F_XL\n",
    "\n",
    "    G = torch.mm(features, features.t())  # compute the gram product\n",
    "\n",
    "    # we 'normalize' the values of the gram matrix\n",
    "    # by dividing by the number of element in each feature maps.\n",
    "    return G.div(a * b * c * d)"
   ]
  },
  {
   "cell_type": "code",
   "execution_count": null,
   "metadata": {
    "id": "5oWesOehmT5V"
   },
   "outputs": [],
   "source": [
    "class StyleLoss(nn.Module):\n",
    "\n",
    "    def __init__(self, target_feature):\n",
    "        super(StyleLoss, self).__init__()\n",
    "        self.target = gram_matrix(target_feature).detach()\n",
    "\n",
    "    def forward(self, input):\n",
    "        G = gram_matrix(input)\n",
    "        self.loss = F.mse_loss(G, self.target)\n",
    "        return input"
   ]
  },
  {
   "cell_type": "markdown",
   "metadata": {
    "id": "_S153l3PmXl0"
   },
   "source": [
    "##Importing the Model\n"
   ]
  },
  {
   "cell_type": "code",
   "execution_count": null,
   "metadata": {
    "colab": {
     "base_uri": "https://localhost:8080/"
    },
    "executionInfo": {
     "elapsed": 11207,
     "status": "ok",
     "timestamp": 1686656380375,
     "user": {
      "displayName": "Lida Calsamiglia",
      "userId": "15289803811976407992"
     },
     "user_tz": -120
    },
    "id": "UPyJm9v_maee",
    "outputId": "67703238-c867-4116-c2c9-015e5557aa29"
   },
   "outputs": [],
   "source": [
    "cnn = models.vgg19(pretrained=True).features.to(device).eval()"
   ]
  },
  {
   "cell_type": "code",
   "execution_count": null,
   "metadata": {
    "id": "e3wnYoJPmb6I"
   },
   "outputs": [],
   "source": [
    "cnn_normalization_mean = torch.tensor([0.485, 0.456, 0.406]).to(device)\n",
    "cnn_normalization_std = torch.tensor([0.229, 0.224, 0.225]).to(device)\n",
    "\n",
    "# create a module to normalize input image so we can easily put it in a nn.Sequential\n",
    "class Normalization(nn.Module):\n",
    "    def __init__(self, mean, std):\n",
    "        super(Normalization, self).__init__()\n",
    "        # .view the mean and std to make them [C x 1 x 1] so that they can\n",
    "        # directly work with image Tensor of shape [B x C x H x W].\n",
    "        # B is batch size. C is number of channels. H is height and W is width.\n",
    "        self.mean = torch.tensor(mean).view(-1, 1, 1)\n",
    "        self.std = torch.tensor(std).view(-1, 1, 1)\n",
    "\n",
    "    def forward(self, img):\n",
    "        # normalize ``img``\n",
    "        return (img - self.mean) / self.std"
   ]
  },
  {
   "cell_type": "code",
   "execution_count": null,
   "metadata": {
    "id": "_XIwKkJamf4U"
   },
   "outputs": [],
   "source": [
    "# desired depth layers to compute style/content losses :\n",
    "content_layers_default = ['conv_4']\n",
    "style_layers_default = ['conv_1', 'conv_2', 'conv_3', 'conv_4', 'conv_5']\n",
    "\n",
    "def get_style_model_and_losses(cnn, normalization_mean, normalization_std,\n",
    "                               style_img, content_img,\n",
    "                               content_layers=content_layers_default,\n",
    "                               style_layers=style_layers_default):\n",
    "    # normalization module\n",
    "    normalization = Normalization(normalization_mean, normalization_std).to(device)\n",
    "\n",
    "    # just in order to have an iterable access to or list of content/style losses\n",
    "    content_losses = []\n",
    "    style_losses = []\n",
    "\n",
    "    # assuming that cnn is a nn.Sequential, so we make a new nn.Sequential to put in modules that are supposed to be activated sequentially\n",
    "    model = nn.Sequential(normalization)\n",
    "\n",
    "    i = 0  # increment every time we see a conv\n",
    "    for layer in cnn.children():\n",
    "        if isinstance(layer, nn.Conv2d):\n",
    "            i += 1\n",
    "            name = 'conv_{}'.format(i)\n",
    "        elif isinstance(layer, nn.ReLU):\n",
    "            name = 'relu_{}'.format(i)\n",
    "            # The in-place version doesn't play very nicely with the ContentLoss and StyleLoss we insert below. So we replace with out-of-place ones here.\n",
    "            layer = nn.ReLU(inplace=False)\n",
    "        elif isinstance(layer, nn.MaxPool2d):\n",
    "            name = 'pool_{}'.format(i)\n",
    "        elif isinstance(layer, nn.BatchNorm2d):\n",
    "            name = 'bn_{}'.format(i)\n",
    "        else:\n",
    "            raise RuntimeError('Unrecognized layer: {}'.format(layer.__class__.__name__))\n",
    "\n",
    "        model.add_module(name, layer)\n",
    "\n",
    "        if name in content_layers:\n",
    "            # add content loss:\n",
    "            target = model(content_img).detach()\n",
    "            content_loss = ContentLoss(target)\n",
    "            model.add_module(\"content_loss_{}\".format(i), content_loss)\n",
    "            content_losses.append(content_loss)\n",
    "\n",
    "        if name in style_layers:\n",
    "            # add style loss:\n",
    "            target_feature = model(style_img).detach()\n",
    "            style_loss = StyleLoss(target_feature)\n",
    "            model.add_module(\"style_loss_{}\".format(i), style_loss)\n",
    "            style_losses.append(style_loss)\n",
    "\n",
    "    # now we trim off the layers after the last content and style losses\n",
    "    for i in range(len(model) - 1, -1, -1):\n",
    "        if isinstance(model[i], ContentLoss) or isinstance(model[i], StyleLoss):\n",
    "            break\n",
    "\n",
    "    model = model[:(i + 1)]\n",
    "\n",
    "    return model, style_losses, content_losses"
   ]
  },
  {
   "cell_type": "markdown",
   "metadata": {
    "id": "tnpB1Sbemidb"
   },
   "source": [
    "##Gradient Descent\n"
   ]
  },
  {
   "cell_type": "code",
   "execution_count": null,
   "metadata": {
    "id": "S-Y3IhHwmkMI"
   },
   "outputs": [],
   "source": [
    "def get_input_optimizer(input_img):\n",
    "    # this line to show that input is a parameter that requires a gradient\n",
    "    optimizer = optim.LBFGS([input_img])\n",
    "    return optimizer"
   ]
  },
  {
   "cell_type": "code",
   "execution_count": null,
   "metadata": {
    "id": "JZ20gDwtmlxL"
   },
   "outputs": [],
   "source": [
    "def run_style_transfer(cnn, normalization_mean, normalization_std,\n",
    "                       content_img, style_img, input_img, num_steps=300,\n",
    "                       style_weight=1000000, content_weight=1):\n",
    "    \"\"\"Run the style transfer.\"\"\"\n",
    "    print('Building the style transfer model..')\n",
    "    model, style_losses, content_losses = get_style_model_and_losses(cnn, normalization_mean, normalization_std, style_img, content_img)\n",
    "\n",
    "    # We want to optimize the input and not the model parameters so we update all the requires_grad fields accordingly\n",
    "    input_img.requires_grad_(True)\n",
    "\n",
    "    # We also put the model in evaluation mode, so that specific layers such as dropout or batch normalization layers behave correctly.\n",
    "    model.eval()\n",
    "    model.requires_grad_(False)\n",
    "\n",
    "    optimizer = get_input_optimizer(input_img)\n",
    "\n",
    "    print('Optimizing..')\n",
    "    run = [0]\n",
    "    while run[0] <= num_steps:\n",
    "\n",
    "        def closure():\n",
    "            # correct the values of updated input image\n",
    "            with torch.no_grad():\n",
    "                input_img.clamp_(0, 1)\n",
    "\n",
    "            optimizer.zero_grad()\n",
    "            model(input_img)\n",
    "            style_score = 0\n",
    "            content_score = 0\n",
    "\n",
    "            for sl in style_losses:\n",
    "                style_score += sl.loss\n",
    "            for cl in content_losses:\n",
    "                content_score += cl.loss\n",
    "\n",
    "            style_score *= style_weight\n",
    "            content_score *= content_weight\n",
    "\n",
    "            loss = style_score + content_score\n",
    "            loss.backward()\n",
    "\n",
    "            run[0] += 1\n",
    "            if run[0] % 50 == 0:\n",
    "                print(\"run {}:\".format(run))\n",
    "                print('Style Loss : {:4f} Content Loss: {:4f}'.format(\n",
    "                    style_score.item(), content_score.item()))\n",
    "                print()\n",
    "\n",
    "            return style_score + content_score\n",
    "\n",
    "        optimizer.step(closure)\n",
    "\n",
    "\n",
    "    # a last correction...\n",
    "    with torch.no_grad():\n",
    "        input_img.clamp_(0, 1)\n",
    "\n",
    "    return input_img"
   ]
  },
  {
   "cell_type": "markdown",
   "metadata": {
    "id": "OPLxAO19qg2e"
   },
   "source": [
    "##***Vangogh Style***"
   ]
  },
  {
   "cell_type": "code",
   "execution_count": null,
   "metadata": {
    "colab": {
     "base_uri": "https://localhost:8080/",
     "height": 857
    },
    "executionInfo": {
     "elapsed": 1649,
     "status": "ok",
     "timestamp": 1686658303892,
     "user": {
      "displayName": "Lida Calsamiglia",
      "userId": "15289803811976407992"
     },
     "user_tz": -120
    },
    "id": "rV91_RdrXI3j",
    "outputId": "0ae08b1c-e72e-4c56-889a-e6acf5b04bf9"
   },
   "outputs": [],
   "source": [
    "vangogh = image_loader(\"/content/drive/MyDrive/DeepLearning_2023/FinalProject/data/vangogh.jpg\")\n",
    "content_img_v = image_loader(\"/content/drive/MyDrive/DeepLearning_2023/FinalProject/data/content.jpg\")\n",
    "\n",
    "assert vangogh.size() == content_img_v.size(), \\\n",
    "    \"we need to import style and content images of the same size\"\n",
    "plt.figure()\n",
    "imshow(vangogh, title='Style Image')\n",
    "\n",
    "plt.figure()\n",
    "imshow(content_img_v, title='Content Image')\n"
   ]
  },
  {
   "cell_type": "code",
   "execution_count": null,
   "metadata": {
    "colab": {
     "base_uri": "https://localhost:8080/",
     "height": 437
    },
    "executionInfo": {
     "elapsed": 1654,
     "status": "ok",
     "timestamp": 1686656819614,
     "user": {
      "displayName": "Lida Calsamiglia",
      "userId": "15289803811976407992"
     },
     "user_tz": -120
    },
    "id": "nz5o4yQWlG_8",
    "outputId": "4d309994-051c-4bc7-8a37-b861c6fc841e"
   },
   "outputs": [],
   "source": [
    "input_img = content_img_v.clone()\n",
    "plt.figure()\n",
    "imshow(input_img, title='Input Image')"
   ]
  },
  {
   "cell_type": "code",
   "execution_count": null,
   "metadata": {
    "colab": {
     "base_uri": "https://localhost:8080/",
     "height": 874
    },
    "executionInfo": {
     "elapsed": 32176,
     "status": "ok",
     "timestamp": 1686657900073,
     "user": {
      "displayName": "Lida Calsamiglia",
      "userId": "15289803811976407992"
     },
     "user_tz": -120
    },
    "id": "uXXYhHW2monv",
    "outputId": "6b86e598-0b06-42cc-f265-2569e0c97d2b"
   },
   "outputs": [],
   "source": [
    "output_vangogh1 = run_style_transfer(cnn, cnn_normalization_mean, cnn_normalization_std, content_img_v, vangogh, input_img)\n",
    "\n",
    "plt.figure()\n",
    "imshow(output_vangogh1, title='Output Image Vangogh Style')\n",
    "\n",
    "plt.ioff()\n",
    "plt.show()"
   ]
  },
  {
   "cell_type": "markdown",
   "metadata": {
    "id": "eemKtCbo6Ys4"
   },
   "source": [
    "##*Vangogh Style using Noisy Input image*\n"
   ]
  },
  {
   "cell_type": "code",
   "execution_count": null,
   "metadata": {
    "colab": {
     "base_uri": "https://localhost:8080/",
     "height": 437
    },
    "executionInfo": {
     "elapsed": 1510,
     "status": "ok",
     "timestamp": 1686658389365,
     "user": {
      "displayName": "Lida Calsamiglia",
      "userId": "15289803811976407992"
     },
     "user_tz": -120
    },
    "id": "flF_TsF-YQ0N",
    "outputId": "91b7e5eb-61e1-49a7-957b-6c049464d871"
   },
   "outputs": [],
   "source": [
    "vangogh1 = image_loader(\"/content/drive/MyDrive/DeepLearning_2023/FinalProject/data/vangogh.jpg\")\n",
    "noisy_input_img = torch.randn(content_img_v.data.size(), device=device)\n",
    "\n",
    "\n",
    "plt.figure()\n",
    "imshow(noisy_input_img, title='Output Image Vangogh Style w/ Noise')\n"
   ]
  },
  {
   "cell_type": "code",
   "execution_count": null,
   "metadata": {
    "colab": {
     "base_uri": "https://localhost:8080/",
     "height": 874
    },
    "executionInfo": {
     "elapsed": 991154,
     "status": "ok",
     "timestamp": 1686659575585,
     "user": {
      "displayName": "Lida Calsamiglia",
      "userId": "15289803811976407992"
     },
     "user_tz": -120
    },
    "id": "eIeHPkMS59Z7",
    "outputId": "8c95e642-7a74-47e3-e147-384f60293008"
   },
   "outputs": [],
   "source": [
    "output = run_style_transfer(cnn, cnn_normalization_mean, cnn_normalization_std,content_img_v, vangogh1, noisy_input_img)\n",
    "\n",
    "plt.figure()\n",
    "imshow(output, title='Output Image')\n",
    "\n",
    "# sphinx_gallery_thumbnail_number = 4\n",
    "plt.ioff()\n",
    "plt.show()"
   ]
  },
  {
   "cell_type": "markdown",
   "metadata": {
    "id": "iQHygaTRqlO8"
   },
   "source": [
    "##***Dalí Style***"
   ]
  },
  {
   "cell_type": "code",
   "execution_count": null,
   "metadata": {
    "colab": {
     "base_uri": "https://localhost:8080/",
     "height": 886
    },
    "id": "KbmndFD-rnXO",
    "outputId": "77aae153-b625-40b6-db10-38851967c5fd"
   },
   "outputs": [],
   "source": [
    "style_img_dali =  image_loader(\"/content/drive/MyDrive/FinalProject/data/dali.jpg\")\n",
    "\n",
    "output = run_style_transfer(cnn, cnn_normalization_mean, cnn_normalization_std, content_img, style_img_dali, input_img)\n",
    "\n",
    "plt.figure()\n",
    "imshow(output, title='Output Image')\n",
    "\n",
    "plt.ioff()\n",
    "plt.show()"
   ]
  },
  {
   "cell_type": "code",
   "execution_count": null,
   "metadata": {
    "colab": {
     "background_save": true,
     "base_uri": "https://localhost:8080/"
    },
    "id": "u6-txI7ZYjhd",
    "outputId": "19e7c06e-e46c-4f02-d5f9-4711e49299f3"
   },
   "outputs": [],
   "source": [
    "style_img_dali =  image_loader(\"/content/drive/MyDrive/FinalProject/data/dali.jpg\")\n",
    "\n",
    "output2 = run_style_transfer(cnn, cnn_normalization_mean, cnn_normalization_std,\n",
    "                            content_img, style_img_dali, input_img, style_weight=5000)\n",
    "\n",
    "plt.figure()\n",
    "imshow(output2, title='Output Image')\n",
    "\n"
   ]
  },
  {
   "cell_type": "code",
   "execution_count": null,
   "metadata": {
    "id": "LfMQFlGLBpaN"
   },
   "outputs": [],
   "source": [
    "import torch\n",
    "\n",
    "def preserve_colors_original(content, generated):\n",
    "    # Convert tensors to NumPy arrays\n",
    "    content_np = content.detach().cpu().squeeze().numpy()\n",
    "    generated_np = generated.detach().cpu().squeeze().numpy()\n",
    "\n",
    "    generated_np[0:3,:, :] = content_np[ 0:3,:, :] * 0.5 + generated_np[0:3,:, :]*0.5\n",
    "    content_tensor = torch.tensor(content_np, dtype=torch.float32).unsqueeze(0)\n",
    "    generated_tensor = torch.tensor(generated_np, dtype=torch.float32).unsqueeze(0)\n",
    "\n",
    "    return generated_tensor\n"
   ]
  },
  {
   "cell_type": "code",
   "execution_count": null,
   "metadata": {
    "id": "XTuOgyLZv6eO"
   },
   "outputs": [],
   "source": []
  },
  {
   "cell_type": "code",
   "execution_count": null,
   "metadata": {
    "colab": {
     "base_uri": "https://localhost:8080/",
     "height": 857
    },
    "executionInfo": {
     "elapsed": 1419,
     "status": "ok",
     "timestamp": 1686661655843,
     "user": {
      "displayName": "Lida Calsamiglia",
      "userId": "15289803811976407992"
     },
     "user_tz": -120
    },
    "id": "RoQNGouwlNdI",
    "outputId": "1230bda5-85f8-4886-fb1e-fe34379496b2"
   },
   "outputs": [],
   "source": [
    "vangogh_copy1 = output_vangogh1.clone()\n",
    "content_img_v = image_loader(\"/content/drive/MyDrive/DeepLearning_2023/FinalProject/data/content.jpg\")\n",
    "plt.figure()\n",
    "imshow(vangogh_copy1, title='Output Image')\n",
    "\n",
    "plt.figure()\n",
    "imshow(content_img_v, title='Content Image')\n"
   ]
  },
  {
   "cell_type": "code",
   "execution_count": null,
   "metadata": {
    "colab": {
     "base_uri": "https://localhost:8080/",
     "height": 417
    },
    "executionInfo": {
     "elapsed": 931,
     "status": "ok",
     "timestamp": 1686661657830,
     "user": {
      "displayName": "Lida Calsamiglia",
      "userId": "15289803811976407992"
     },
     "user_tz": -120
    },
    "id": "duuZzdG9CMt1",
    "outputId": "4c64683d-bd47-470d-bd29-b364a0e95dfb"
   },
   "outputs": [],
   "source": [
    "preserved_colors = preserve_colors_original(content_img_v, vangogh_copy1).squeeze(0)\n",
    "unloader(preserved_colors)\n"
   ]
  },
  {
   "cell_type": "code",
   "execution_count": null,
   "metadata": {
    "executionInfo": {
     "elapsed": 535,
     "status": "ok",
     "timestamp": 1686661762046,
     "user": {
      "displayName": "Lida Calsamiglia",
      "userId": "15289803811976407992"
     },
     "user_tz": -120
    },
    "id": "I-pJuDQs2hl1"
   },
   "outputs": [],
   "source": [
    "def preserve_colors_original1(content, generated):\n",
    "    # Convert tensors to NumPy arrays\n",
    "    content_np = content.detach().cpu().squeeze().numpy()\n",
    "    generated_np = generated.detach().cpu().squeeze().numpy()\n",
    "\n",
    "    generated_np[0:3,:, :] = content_np[ 0:3,:, :] * 0.3 + generated_np[0:3,:, :]*0.7\n",
    "    content_tensor = torch.tensor(content_np, dtype=torch.float32).unsqueeze(0)\n",
    "    generated_tensor = torch.tensor(generated_np, dtype=torch.float32).unsqueeze(0)\n",
    "\n",
    "    return generated_tensor"
   ]
  },
  {
   "cell_type": "code",
   "execution_count": null,
   "metadata": {
    "colab": {
     "base_uri": "https://localhost:8080/",
     "height": 857
    },
    "executionInfo": {
     "elapsed": 2153,
     "status": "ok",
     "timestamp": 1686661765427,
     "user": {
      "displayName": "Lida Calsamiglia",
      "userId": "15289803811976407992"
     },
     "user_tz": -120
    },
    "id": "yBD72Bd-xAvM",
    "outputId": "4a7ac9d5-0f86-48c8-edf1-e40c55947755"
   },
   "outputs": [],
   "source": [
    "vangogh_copy2 = output_vangogh1.clone()\n",
    "content_img_v = image_loader(\"/content/drive/MyDrive/DeepLearning_2023/FinalProject/data/content.jpg\")\n",
    "plt.figure()\n",
    "imshow(vangogh_copy2, title='Output Image')\n",
    "\n",
    "plt.figure()\n",
    "imshow(content_img_v, title='Content Image')\n"
   ]
  },
  {
   "cell_type": "code",
   "execution_count": null,
   "metadata": {
    "colab": {
     "base_uri": "https://localhost:8080/",
     "height": 417
    },
    "executionInfo": {
     "elapsed": 862,
     "status": "ok",
     "timestamp": 1686663582200,
     "user": {
      "displayName": "Lida Calsamiglia",
      "userId": "15289803811976407992"
     },
     "user_tz": -120
    },
    "id": "CrV9VU9d2l-0",
    "outputId": "127cf065-db35-4015-e042-c8b073aff6de"
   },
   "outputs": [],
   "source": [
    "preserved_colors = preserve_colors_original1(content_img_v, vangogh_copy2).squeeze(0)\n",
    "unloader(preserved_colors)\n",
    "\n"
   ]
  },
  {
   "cell_type": "code",
   "execution_count": null,
   "metadata": {
    "executionInfo": {
     "elapsed": 179,
     "status": "ok",
     "timestamp": 1686663572764,
     "user": {
      "displayName": "Lida Calsamiglia",
      "userId": "15289803811976407992"
     },
     "user_tz": -120
    },
    "id": "udngZ2jy2yLY"
   },
   "outputs": [],
   "source": [
    "def preserve_colors_original2(content, generated):\n",
    "    # Convert tensors to NumPy arrays\n",
    "    content_np = content.detach().cpu().squeeze().numpy()\n",
    "    generated_np = generated.detach().cpu().squeeze().numpy()\n",
    "\n",
    "    generated_np[0:3,:, :] = content_np[ 0:3,:, :] * 1.0 + generated_np[0:3,:, :]*0.0\n",
    "    content_tensor = torch.tensor(content_np, dtype=torch.float32).unsqueeze(0)\n",
    "    generated_tensor = torch.tensor(generated_np, dtype=torch.float32).unsqueeze(0)\n",
    "\n",
    "    return generated_tensor"
   ]
  },
  {
   "cell_type": "code",
   "execution_count": null,
   "metadata": {
    "colab": {
     "base_uri": "https://localhost:8080/",
     "height": 417
    },
    "executionInfo": {
     "elapsed": 7,
     "status": "ok",
     "timestamp": 1686663574142,
     "user": {
      "displayName": "Lida Calsamiglia",
      "userId": "15289803811976407992"
     },
     "user_tz": -120
    },
    "id": "UIyju-6n2yLZ",
    "outputId": "58c100a3-b27a-458c-91a9-44ffdfb3a031"
   },
   "outputs": [],
   "source": [
    "vangogh_copy3 = output_vangogh1.clone()\n",
    "preserved_colors = preserve_colors_original2(content_img_v, vangogh_copy3).squeeze(0)\n",
    "unloader(preserved_colors)\n",
    "\n"
   ]
  },
  {
   "cell_type": "code",
   "execution_count": null,
   "metadata": {
    "colab": {
     "background_save": true
    },
    "id": "hrhTMxouw_Pg"
   },
   "outputs": [],
   "source": []
  }
 ],
 "metadata": {
  "colab": {
   "provenance": []
  },
  "kernelspec": {
   "display_name": "Python 3",
   "language": "python",
   "name": "python3"
  },
  "language_info": {
   "codemirror_mode": {
    "name": "ipython",
    "version": 3
   },
   "file_extension": ".py",
   "mimetype": "text/x-python",
   "name": "python",
   "nbconvert_exporter": "python",
   "pygments_lexer": "ipython3",
   "version": "3.7.0"
  }
 },
 "nbformat": 4,
 "nbformat_minor": 1
}
